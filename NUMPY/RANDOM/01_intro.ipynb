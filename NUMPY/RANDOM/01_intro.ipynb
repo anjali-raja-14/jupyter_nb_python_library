{
 "cells": [
  {
   "cell_type": "markdown",
   "metadata": {},
   "source": [
    "RANDOM NUMBER\n"
   ]
  },
  {
   "cell_type": "code",
   "execution_count": 9,
   "metadata": {},
   "outputs": [
    {
     "name": "stdout",
     "output_type": "stream",
     "text": [
      "24\n"
     ]
    }
   ],
   "source": [
    "from numpy import random as rd\n",
    "print(rd.randint(1,100))\n"
   ]
  },
  {
   "cell_type": "code",
   "execution_count": 10,
   "metadata": {},
   "outputs": [
    {
     "name": "stdout",
     "output_type": "stream",
     "text": [
      "[[0.81296441 0.29025214 0.64810342 0.64903959 0.6524222  0.57103406\n",
      "  0.15514065 0.0953434  0.64700876 0.65695319]]\n"
     ]
    }
   ],
   "source": [
    "print(rd.rand(1,10))"
   ]
  },
  {
   "cell_type": "code",
   "execution_count": 18,
   "metadata": {},
   "outputs": [
    {
     "name": "stdout",
     "output_type": "stream",
     "text": [
      "[0.42086923 0.78437845]\n"
     ]
    }
   ],
   "source": [
    "from numpy import random as rd\n",
    "x=rd.rand(2)\n",
    "print(x)"
   ]
  },
  {
   "cell_type": "code",
   "execution_count": 19,
   "metadata": {},
   "outputs": [
    {
     "name": "stdout",
     "output_type": "stream",
     "text": [
      "[[0.85847659 0.41301596 0.06780118]\n",
      " [0.62313589 0.10622069 0.937258  ]]\n"
     ]
    }
   ],
   "source": [
    "from numpy import random as rd\n",
    "x=rd.rand(2,3)\n",
    "print(x)"
   ]
  },
  {
   "cell_type": "code",
   "execution_count": 28,
   "metadata": {},
   "outputs": [
    {
     "name": "stdout",
     "output_type": "stream",
     "text": [
      "8\n"
     ]
    }
   ],
   "source": [
    "x=rd.choice([2,4,6,8,10])\n",
    "print(x)"
   ]
  },
  {
   "cell_type": "code",
   "execution_count": 30,
   "metadata": {},
   "outputs": [
    {
     "name": "stdout",
     "output_type": "stream",
     "text": [
      "[[10  2 10]\n",
      " [ 4  8  4]]\n"
     ]
    }
   ],
   "source": [
    "x=rd.choice([2,4,6,8,10],size=(2,3))\n",
    "print(x)"
   ]
  },
  {
   "cell_type": "code",
   "execution_count": 31,
   "metadata": {},
   "outputs": [
    {
     "name": "stdout",
     "output_type": "stream",
     "text": [
      "[7 5 5 7 5 5 3 7 7 7 7 3 7 5 7 5 7 5 5 7 7 7 7 7 7 7 5 7 5 7 7 7 5 5 5 5 3\n",
      " 7 7 7 5 5 7 5 7 7 3 5 3 5 5 7 7 7 7 7 5 7 7 7 7 7 5 7 7 5 7 7 7 3 7 7 7 7\n",
      " 7 5 7 7 7 7 7 7 5 7 7 5 7 7 5 7 3 5 7 7 7 7 7 7 7 7]\n"
     ]
    }
   ],
   "source": [
    "from numpy import random\n",
    "\n",
    "x = random.choice([3, 5, 7, 9], p=[0.1, 0.3, 0.6, 0.0], size=(100))\n",
    "\n",
    "print(x)"
   ]
  }
 ],
 "metadata": {
  "kernelspec": {
   "display_name": "Python 3",
   "language": "python",
   "name": "python3"
  },
  "language_info": {
   "codemirror_mode": {
    "name": "ipython",
    "version": 3
   },
   "file_extension": ".py",
   "mimetype": "text/x-python",
   "name": "python",
   "nbconvert_exporter": "python",
   "pygments_lexer": "ipython3",
   "version": "3.11.9"
  }
 },
 "nbformat": 4,
 "nbformat_minor": 2
}
