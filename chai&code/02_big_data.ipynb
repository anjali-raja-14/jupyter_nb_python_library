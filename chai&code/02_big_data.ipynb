{
 "cells": [
  {
   "cell_type": "code",
   "execution_count": null,
   "metadata": {},
   "outputs": [],
   "source": [
    "import numpy as np\n",
    "sales_data = np.array([\n",
    "    [1, 150000, 180000, 220000, 250000],  # Paradise Biryani\n",
    "    [2, 120000, 140000, 160000, 190000],  # Beijing Bites\n",
    "    [3, 200000, 230000, 260000, 300000],  # Pizza Hub\n",
    "    [4, 180000, 210000, 240000, 270000],  # Burger Point\n",
    "    [5, 160000, 185000, 205000, 230000]   # Chai Point\n",
    "])"
   ]
  },
  {
   "cell_type": "code",
   "execution_count": 11,
   "metadata": {},
   "outputs": [
    {
     "name": "stdout",
     "output_type": "stream",
     "text": [
      "[     15  810000  945000 1085000 1240000]\n",
      "[ 810000  945000 1085000 1240000]\n",
      "[120000 140000 160000 190000]\n",
      "[150000 120000 200000 180000 160000]\n"
     ]
    }
   ],
   "source": [
    "sum_up_1=np.sum(sales_data,axis=0)\n",
    "sum_up=np.sum(sales_data[:,1:],axis=0)\n",
    "\n",
    "print(sum_up_1)\n",
    "print(sum_up)\n",
    "min_sales_c=np.min(sales_data[:,1:],axis=0)#according to column\n",
    "print(min_sales_c)\n",
    "min_sales_r=np.min(sales_data[:,1:],axis=1)#according to row\n",
    "print(min_sales_r)\n"
   ]
  },
  {
   "cell_type": "code",
   "execution_count": 13,
   "metadata": {},
   "outputs": [
    {
     "name": "stdout",
     "output_type": "stream",
     "text": [
      "[200000 230000 260000 300000]\n",
      "[250000 190000 300000 270000 230000]\n"
     ]
    }
   ],
   "source": [
    "max_sales_c=np.max(sales_data[:,1:],axis=0)#according to column\n",
    "print(max_sales_c)\n",
    "max_sales_r=np.max(sales_data[:,1:],axis=1)#according to row\n",
    "print(max_sales_r)"
   ]
  }
 ],
 "metadata": {
  "kernelspec": {
   "display_name": "Python 3",
   "language": "python",
   "name": "python3"
  },
  "language_info": {
   "codemirror_mode": {
    "name": "ipython",
    "version": 3
   },
   "file_extension": ".py",
   "mimetype": "text/x-python",
   "name": "python",
   "nbconvert_exporter": "python",
   "pygments_lexer": "ipython3",
   "version": "3.11.9"
  }
 },
 "nbformat": 4,
 "nbformat_minor": 2
}
