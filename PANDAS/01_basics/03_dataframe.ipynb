{
 "cells": [
  {
   "cell_type": "markdown",
   "id": "f93f2d00",
   "metadata": {},
   "source": [
    "## DATAFRAME"
   ]
  },
  {
   "cell_type": "markdown",
   "id": "f1a23ad1",
   "metadata": {},
   "source": [
    "Datafarme is the main object in pandas where we form the data in the tabular form(excel spreadsheets)"
   ]
  },
  {
   "cell_type": "code",
   "execution_count": null,
   "id": "b80db49b",
   "metadata": {},
   "outputs": [
    {
     "data": {
      "text/html": [
       "<div>\n",
       "<style scoped>\n",
       "    .dataframe tbody tr th:only-of-type {\n",
       "        vertical-align: middle;\n",
       "    }\n",
       "\n",
       "    .dataframe tbody tr th {\n",
       "        vertical-align: top;\n",
       "    }\n",
       "\n",
       "    .dataframe thead th {\n",
       "        text-align: right;\n",
       "    }\n",
       "</style>\n",
       "<table border=\"1\" class=\"dataframe\">\n",
       "  <thead>\n",
       "    <tr style=\"text-align: right;\">\n",
       "      <th></th>\n",
       "      <th>Index</th>\n",
       "      <th>User Id</th>\n",
       "      <th>First Name</th>\n",
       "      <th>Last Name</th>\n",
       "      <th>Sex</th>\n",
       "      <th>Email</th>\n",
       "      <th>Phone</th>\n",
       "      <th>Date of birth</th>\n",
       "      <th>Job Title</th>\n",
       "    </tr>\n",
       "  </thead>\n",
       "  <tbody>\n",
       "    <tr>\n",
       "      <th>0</th>\n",
       "      <td>1</td>\n",
       "      <td>88F7B33d2bcf9f5</td>\n",
       "      <td>Shelby</td>\n",
       "      <td>Terrell</td>\n",
       "      <td>Male</td>\n",
       "      <td>elijah57@example.net</td>\n",
       "      <td>001-084-906-7849x73518</td>\n",
       "      <td>1945-10-26</td>\n",
       "      <td>Games developer</td>\n",
       "    </tr>\n",
       "    <tr>\n",
       "      <th>1</th>\n",
       "      <td>2</td>\n",
       "      <td>f90cD3E76f1A9b9</td>\n",
       "      <td>Phillip</td>\n",
       "      <td>Summers</td>\n",
       "      <td>Female</td>\n",
       "      <td>bethany14@example.com</td>\n",
       "      <td>214.112.6044x4913</td>\n",
       "      <td>1910-03-24</td>\n",
       "      <td>Phytotherapist</td>\n",
       "    </tr>\n",
       "    <tr>\n",
       "      <th>2</th>\n",
       "      <td>3</td>\n",
       "      <td>DbeAb8CcdfeFC2c</td>\n",
       "      <td>Kristine</td>\n",
       "      <td>Travis</td>\n",
       "      <td>Male</td>\n",
       "      <td>bthompson@example.com</td>\n",
       "      <td>277.609.7938</td>\n",
       "      <td>1992-07-02</td>\n",
       "      <td>Homeopath</td>\n",
       "    </tr>\n",
       "    <tr>\n",
       "      <th>3</th>\n",
       "      <td>4</td>\n",
       "      <td>A31Bee3c201ef58</td>\n",
       "      <td>Yesenia</td>\n",
       "      <td>Martinez</td>\n",
       "      <td>Male</td>\n",
       "      <td>kaitlinkaiser@example.com</td>\n",
       "      <td>584.094.6111</td>\n",
       "      <td>2017-08-03</td>\n",
       "      <td>Market researcher</td>\n",
       "    </tr>\n",
       "    <tr>\n",
       "      <th>4</th>\n",
       "      <td>5</td>\n",
       "      <td>1bA7A3dc874da3c</td>\n",
       "      <td>Lori</td>\n",
       "      <td>Todd</td>\n",
       "      <td>Male</td>\n",
       "      <td>buchananmanuel@example.net</td>\n",
       "      <td>689-207-3558x7233</td>\n",
       "      <td>1938-12-01</td>\n",
       "      <td>Veterinary surgeon</td>\n",
       "    </tr>\n",
       "    <tr>\n",
       "      <th>...</th>\n",
       "      <td>...</td>\n",
       "      <td>...</td>\n",
       "      <td>...</td>\n",
       "      <td>...</td>\n",
       "      <td>...</td>\n",
       "      <td>...</td>\n",
       "      <td>...</td>\n",
       "      <td>...</td>\n",
       "      <td>...</td>\n",
       "    </tr>\n",
       "    <tr>\n",
       "      <th>95</th>\n",
       "      <td>96</td>\n",
       "      <td>5eFda7caAeB260E</td>\n",
       "      <td>Dennis</td>\n",
       "      <td>Barnes</td>\n",
       "      <td>Female</td>\n",
       "      <td>bmartin@example.org</td>\n",
       "      <td>001-095-524-2112x257</td>\n",
       "      <td>1954-07-30</td>\n",
       "      <td>Software engineer</td>\n",
       "    </tr>\n",
       "    <tr>\n",
       "      <th>96</th>\n",
       "      <td>97</td>\n",
       "      <td>CCbFce93d3720bE</td>\n",
       "      <td>Steve</td>\n",
       "      <td>Patterson</td>\n",
       "      <td>Female</td>\n",
       "      <td>latasha46@example.net</td>\n",
       "      <td>001-865-478-5157</td>\n",
       "      <td>1932-04-29</td>\n",
       "      <td>Barrister</td>\n",
       "    </tr>\n",
       "    <tr>\n",
       "      <th>97</th>\n",
       "      <td>98</td>\n",
       "      <td>2fEc528aFAF0b69</td>\n",
       "      <td>Wesley</td>\n",
       "      <td>Bray</td>\n",
       "      <td>Male</td>\n",
       "      <td>regina11@example.org</td>\n",
       "      <td>995-542-3004x76800</td>\n",
       "      <td>1994-12-28</td>\n",
       "      <td>Police officer</td>\n",
       "    </tr>\n",
       "    <tr>\n",
       "      <th>98</th>\n",
       "      <td>99</td>\n",
       "      <td>Adc7ad9B6e4A1Fe</td>\n",
       "      <td>Summer</td>\n",
       "      <td>Oconnell</td>\n",
       "      <td>Female</td>\n",
       "      <td>alexiscantrell@example.org</td>\n",
       "      <td>001-273-685-6932x092</td>\n",
       "      <td>2012-04-12</td>\n",
       "      <td>Broadcast journalist</td>\n",
       "    </tr>\n",
       "    <tr>\n",
       "      <th>99</th>\n",
       "      <td>100</td>\n",
       "      <td>b8D0aD3490FC7e1</td>\n",
       "      <td>Mariah</td>\n",
       "      <td>Bernard</td>\n",
       "      <td>Male</td>\n",
       "      <td>pcopeland@example.org</td>\n",
       "      <td>(341)594-6554x44657</td>\n",
       "      <td>2016-11-15</td>\n",
       "      <td>IT sales professional</td>\n",
       "    </tr>\n",
       "  </tbody>\n",
       "</table>\n",
       "<p>100 rows × 9 columns</p>\n",
       "</div>"
      ],
      "text/plain": [
       "    Index          User Id First Name  Last Name     Sex  \\\n",
       "0       1  88F7B33d2bcf9f5     Shelby    Terrell    Male   \n",
       "1       2  f90cD3E76f1A9b9    Phillip    Summers  Female   \n",
       "2       3  DbeAb8CcdfeFC2c   Kristine     Travis    Male   \n",
       "3       4  A31Bee3c201ef58    Yesenia   Martinez    Male   \n",
       "4       5  1bA7A3dc874da3c       Lori       Todd    Male   \n",
       "..    ...              ...        ...        ...     ...   \n",
       "95     96  5eFda7caAeB260E     Dennis     Barnes  Female   \n",
       "96     97  CCbFce93d3720bE      Steve  Patterson  Female   \n",
       "97     98  2fEc528aFAF0b69     Wesley       Bray    Male   \n",
       "98     99  Adc7ad9B6e4A1Fe     Summer   Oconnell  Female   \n",
       "99    100  b8D0aD3490FC7e1     Mariah    Bernard    Male   \n",
       "\n",
       "                         Email                   Phone Date of birth  \\\n",
       "0         elijah57@example.net  001-084-906-7849x73518    1945-10-26   \n",
       "1        bethany14@example.com       214.112.6044x4913    1910-03-24   \n",
       "2        bthompson@example.com            277.609.7938    1992-07-02   \n",
       "3    kaitlinkaiser@example.com            584.094.6111    2017-08-03   \n",
       "4   buchananmanuel@example.net       689-207-3558x7233    1938-12-01   \n",
       "..                         ...                     ...           ...   \n",
       "95         bmartin@example.org    001-095-524-2112x257    1954-07-30   \n",
       "96       latasha46@example.net        001-865-478-5157    1932-04-29   \n",
       "97        regina11@example.org      995-542-3004x76800    1994-12-28   \n",
       "98  alexiscantrell@example.org    001-273-685-6932x092    2012-04-12   \n",
       "99       pcopeland@example.org     (341)594-6554x44657    2016-11-15   \n",
       "\n",
       "                Job Title  \n",
       "0         Games developer  \n",
       "1          Phytotherapist  \n",
       "2               Homeopath  \n",
       "3       Market researcher  \n",
       "4      Veterinary surgeon  \n",
       "..                    ...  \n",
       "95      Software engineer  \n",
       "96              Barrister  \n",
       "97         Police officer  \n",
       "98   Broadcast journalist  \n",
       "99  IT sales professional  \n",
       "\n",
       "[100 rows x 9 columns]"
      ]
     },
     "execution_count": 5,
     "metadata": {},
     "output_type": "execute_result"
    }
   ],
   "source": [
    "import pandas as pd\n",
    "df=pd.read_csv(\"C:\\\\Users\\\\91917\\\\OneDrive\\\\Desktop\\\\people-100.csv\")\n",
    "df"
   ]
  },
  {
   "cell_type": "code",
   "execution_count": 32,
   "id": "74f27b73",
   "metadata": {},
   "outputs": [
    {
     "data": {
      "text/html": [
       "<div>\n",
       "<style scoped>\n",
       "    .dataframe tbody tr th:only-of-type {\n",
       "        vertical-align: middle;\n",
       "    }\n",
       "\n",
       "    .dataframe tbody tr th {\n",
       "        vertical-align: top;\n",
       "    }\n",
       "\n",
       "    .dataframe thead th {\n",
       "        text-align: right;\n",
       "    }\n",
       "</style>\n",
       "<table border=\"1\" class=\"dataframe\">\n",
       "  <thead>\n",
       "    <tr style=\"text-align: right;\">\n",
       "      <th></th>\n",
       "      <th>Index</th>\n",
       "      <th>User Id</th>\n",
       "      <th>First Name</th>\n",
       "      <th>Last Name</th>\n",
       "      <th>Sex</th>\n",
       "      <th>Email</th>\n",
       "      <th>Phone</th>\n",
       "      <th>Date of birth</th>\n",
       "      <th>Job Title</th>\n",
       "    </tr>\n",
       "  </thead>\n",
       "  <tbody>\n",
       "    <tr>\n",
       "      <th>2</th>\n",
       "      <td>3</td>\n",
       "      <td>DbeAb8CcdfeFC2c</td>\n",
       "      <td>Kristine</td>\n",
       "      <td>Travis</td>\n",
       "      <td>Male</td>\n",
       "      <td>bthompson@example.com</td>\n",
       "      <td>277.609.7938</td>\n",
       "      <td>1992-07-02</td>\n",
       "      <td>Homeopath</td>\n",
       "    </tr>\n",
       "    <tr>\n",
       "      <th>3</th>\n",
       "      <td>4</td>\n",
       "      <td>A31Bee3c201ef58</td>\n",
       "      <td>Yesenia</td>\n",
       "      <td>Martinez</td>\n",
       "      <td>Male</td>\n",
       "      <td>kaitlinkaiser@example.com</td>\n",
       "      <td>584.094.6111</td>\n",
       "      <td>2017-08-03</td>\n",
       "      <td>Market researcher</td>\n",
       "    </tr>\n",
       "    <tr>\n",
       "      <th>4</th>\n",
       "      <td>5</td>\n",
       "      <td>1bA7A3dc874da3c</td>\n",
       "      <td>Lori</td>\n",
       "      <td>Todd</td>\n",
       "      <td>Male</td>\n",
       "      <td>buchananmanuel@example.net</td>\n",
       "      <td>689-207-3558x7233</td>\n",
       "      <td>1938-12-01</td>\n",
       "      <td>Veterinary surgeon</td>\n",
       "    </tr>\n",
       "    <tr>\n",
       "      <th>5</th>\n",
       "      <td>6</td>\n",
       "      <td>bfDD7CDEF5D865B</td>\n",
       "      <td>Erin</td>\n",
       "      <td>Day</td>\n",
       "      <td>Male</td>\n",
       "      <td>tconner@example.org</td>\n",
       "      <td>001-171-649-9856x5553</td>\n",
       "      <td>2015-10-28</td>\n",
       "      <td>Waste management officer</td>\n",
       "    </tr>\n",
       "    <tr>\n",
       "      <th>6</th>\n",
       "      <td>7</td>\n",
       "      <td>bE9EEf34cB72AF7</td>\n",
       "      <td>Katherine</td>\n",
       "      <td>Buck</td>\n",
       "      <td>Female</td>\n",
       "      <td>conniecowan@example.com</td>\n",
       "      <td>+1-773-151-6685x49162</td>\n",
       "      <td>1989-01-22</td>\n",
       "      <td>Intelligence analyst</td>\n",
       "    </tr>\n",
       "    <tr>\n",
       "      <th>7</th>\n",
       "      <td>8</td>\n",
       "      <td>2EFC6A4e77FaEaC</td>\n",
       "      <td>Ricardo</td>\n",
       "      <td>Hinton</td>\n",
       "      <td>Male</td>\n",
       "      <td>wyattbishop@example.com</td>\n",
       "      <td>001-447-699-7998x88612</td>\n",
       "      <td>1924-03-26</td>\n",
       "      <td>Hydrogeologist</td>\n",
       "    </tr>\n",
       "    <tr>\n",
       "      <th>8</th>\n",
       "      <td>9</td>\n",
       "      <td>baDcC4DeefD8dEB</td>\n",
       "      <td>Dave</td>\n",
       "      <td>Farrell</td>\n",
       "      <td>Male</td>\n",
       "      <td>nmccann@example.net</td>\n",
       "      <td>603-428-2429x27392</td>\n",
       "      <td>2018-10-06</td>\n",
       "      <td>Lawyer</td>\n",
       "    </tr>\n",
       "    <tr>\n",
       "      <th>9</th>\n",
       "      <td>10</td>\n",
       "      <td>8e4FB470FE19bF0</td>\n",
       "      <td>Isaiah</td>\n",
       "      <td>Downs</td>\n",
       "      <td>Male</td>\n",
       "      <td>virginiaterrell@example.org</td>\n",
       "      <td>+1-511-372-1544x8206</td>\n",
       "      <td>1964-09-20</td>\n",
       "      <td>Engineer, site</td>\n",
       "    </tr>\n",
       "    <tr>\n",
       "      <th>10</th>\n",
       "      <td>11</td>\n",
       "      <td>BF0BbA03C29Bb3b</td>\n",
       "      <td>Sheila</td>\n",
       "      <td>Ross</td>\n",
       "      <td>Female</td>\n",
       "      <td>huangcathy@example.com</td>\n",
       "      <td>895.881.4746</td>\n",
       "      <td>2008-03-20</td>\n",
       "      <td>Advertising account executive</td>\n",
       "    </tr>\n",
       "  </tbody>\n",
       "</table>\n",
       "</div>"
      ],
      "text/plain": [
       "    Index          User Id First Name Last Name     Sex  \\\n",
       "2       3  DbeAb8CcdfeFC2c   Kristine    Travis    Male   \n",
       "3       4  A31Bee3c201ef58    Yesenia  Martinez    Male   \n",
       "4       5  1bA7A3dc874da3c       Lori      Todd    Male   \n",
       "5       6  bfDD7CDEF5D865B       Erin       Day    Male   \n",
       "6       7  bE9EEf34cB72AF7  Katherine      Buck  Female   \n",
       "7       8  2EFC6A4e77FaEaC    Ricardo    Hinton    Male   \n",
       "8       9  baDcC4DeefD8dEB       Dave   Farrell    Male   \n",
       "9      10  8e4FB470FE19bF0     Isaiah     Downs    Male   \n",
       "10     11  BF0BbA03C29Bb3b     Sheila      Ross  Female   \n",
       "\n",
       "                          Email                   Phone Date of birth  \\\n",
       "2         bthompson@example.com            277.609.7938    1992-07-02   \n",
       "3     kaitlinkaiser@example.com            584.094.6111    2017-08-03   \n",
       "4    buchananmanuel@example.net       689-207-3558x7233    1938-12-01   \n",
       "5           tconner@example.org   001-171-649-9856x5553    2015-10-28   \n",
       "6       conniecowan@example.com   +1-773-151-6685x49162    1989-01-22   \n",
       "7       wyattbishop@example.com  001-447-699-7998x88612    1924-03-26   \n",
       "8           nmccann@example.net      603-428-2429x27392    2018-10-06   \n",
       "9   virginiaterrell@example.org    +1-511-372-1544x8206    1964-09-20   \n",
       "10       huangcathy@example.com            895.881.4746    2008-03-20   \n",
       "\n",
       "                        Job Title  \n",
       "2                       Homeopath  \n",
       "3               Market researcher  \n",
       "4              Veterinary surgeon  \n",
       "5        Waste management officer  \n",
       "6            Intelligence analyst  \n",
       "7                  Hydrogeologist  \n",
       "8                          Lawyer  \n",
       "9                  Engineer, site  \n",
       "10  Advertising account executive  "
      ]
     },
     "execution_count": 32,
     "metadata": {},
     "output_type": "execute_result"
    }
   ],
   "source": [
    "df[2:11]"
   ]
  },
  {
   "cell_type": "code",
   "execution_count": 33,
   "id": "1eeead08",
   "metadata": {},
   "outputs": [
    {
     "data": {
      "text/plain": [
       "Index(['Index', 'User Id', 'First Name', 'Last Name', 'Sex', 'Email', 'Phone',\n",
       "       'Date of birth', 'Job Title'],\n",
       "      dtype='object')"
      ]
     },
     "execution_count": 33,
     "metadata": {},
     "output_type": "execute_result"
    }
   ],
   "source": [
    "df.columns"
   ]
  },
  {
   "cell_type": "code",
   "execution_count": null,
   "id": "e423137d",
   "metadata": {},
   "outputs": [
    {
     "data": {
      "text/plain": [
       "0           elijah57@example.net\n",
       "1          bethany14@example.com\n",
       "2          bthompson@example.com\n",
       "3      kaitlinkaiser@example.com\n",
       "4     buchananmanuel@example.net\n",
       "                 ...            \n",
       "95           bmartin@example.org\n",
       "96         latasha46@example.net\n",
       "97          regina11@example.org\n",
       "98    alexiscantrell@example.org\n",
       "99         pcopeland@example.org\n",
       "Name: Email, Length: 100, dtype: object"
      ]
     },
     "execution_count": 38,
     "metadata": {},
     "output_type": "execute_result"
    }
   ],
   "source": [
    "df.Email # df[\"Email\"](same)"
   ]
  },
  {
   "cell_type": "code",
   "execution_count": 12,
   "id": "1680b154",
   "metadata": {},
   "outputs": [
    {
     "data": {
      "text/html": [
       "<div>\n",
       "<style scoped>\n",
       "    .dataframe tbody tr th:only-of-type {\n",
       "        vertical-align: middle;\n",
       "    }\n",
       "\n",
       "    .dataframe tbody tr th {\n",
       "        vertical-align: top;\n",
       "    }\n",
       "\n",
       "    .dataframe thead th {\n",
       "        text-align: right;\n",
       "    }\n",
       "</style>\n",
       "<table border=\"1\" class=\"dataframe\">\n",
       "  <thead>\n",
       "    <tr style=\"text-align: right;\">\n",
       "      <th></th>\n",
       "      <th>id</th>\n",
       "      <th>name</th>\n",
       "      <th>cource</th>\n",
       "      <th>age</th>\n",
       "    </tr>\n",
       "  </thead>\n",
       "  <tbody>\n",
       "    <tr>\n",
       "      <th>0</th>\n",
       "      <td>1</td>\n",
       "      <td>Anjali</td>\n",
       "      <td>AI &amp;  DS</td>\n",
       "      <td>21</td>\n",
       "    </tr>\n",
       "    <tr>\n",
       "      <th>1</th>\n",
       "      <td>2</td>\n",
       "      <td>Ritesh</td>\n",
       "      <td>CS</td>\n",
       "      <td>31</td>\n",
       "    </tr>\n",
       "    <tr>\n",
       "      <th>2</th>\n",
       "      <td>3</td>\n",
       "      <td>Yash</td>\n",
       "      <td>CS</td>\n",
       "      <td>18</td>\n",
       "    </tr>\n",
       "  </tbody>\n",
       "</table>\n",
       "</div>"
      ],
      "text/plain": [
       "   id    name    cource  age\n",
       "0   1  Anjali  AI &  DS   21\n",
       "1   2  Ritesh        CS   31\n",
       "2   3    Yash        CS   18"
      ]
     },
     "execution_count": 12,
     "metadata": {},
     "output_type": "execute_result"
    }
   ],
   "source": [
    "df1=pd.read_csv(\"C:\\\\Users\\\\91917\\\\OneDrive\\\\Desktop\\\\jupyter notebook\\\\jupyter_nb_numpy\\\\PANDAS\\\\school.csv\")\n",
    "df1\n"
   ]
  },
  {
   "cell_type": "code",
   "execution_count": 13,
   "id": "ab1e85ce",
   "metadata": {},
   "outputs": [
    {
     "data": {
      "text/plain": [
       "0    Anjali\n",
       "1    Ritesh\n",
       "2      Yash\n",
       "Name: name, dtype: object"
      ]
     },
     "execution_count": 13,
     "metadata": {},
     "output_type": "execute_result"
    }
   ],
   "source": [
    "df1[\"name\"]"
   ]
  },
  {
   "cell_type": "code",
   "execution_count": 24,
   "id": "e599e615",
   "metadata": {},
   "outputs": [
    {
     "name": "stdout",
     "output_type": "stream",
     "text": [
      "{'Name': ['Anjali', 'Ritesh'], 'id': [11, 24], 'cource': ['AI & DS', 'CS']}\n"
     ]
    },
    {
     "data": {
      "text/html": [
       "<div>\n",
       "<style scoped>\n",
       "    .dataframe tbody tr th:only-of-type {\n",
       "        vertical-align: middle;\n",
       "    }\n",
       "\n",
       "    .dataframe tbody tr th {\n",
       "        vertical-align: top;\n",
       "    }\n",
       "\n",
       "    .dataframe thead th {\n",
       "        text-align: right;\n",
       "    }\n",
       "</style>\n",
       "<table border=\"1\" class=\"dataframe\">\n",
       "  <thead>\n",
       "    <tr style=\"text-align: right;\">\n",
       "      <th></th>\n",
       "      <th>Name</th>\n",
       "      <th>id</th>\n",
       "      <th>cource</th>\n",
       "    </tr>\n",
       "  </thead>\n",
       "  <tbody>\n",
       "    <tr>\n",
       "      <th>0</th>\n",
       "      <td>Anjali</td>\n",
       "      <td>11</td>\n",
       "      <td>AI &amp; DS</td>\n",
       "    </tr>\n",
       "    <tr>\n",
       "      <th>1</th>\n",
       "      <td>Ritesh</td>\n",
       "      <td>24</td>\n",
       "      <td>CS</td>\n",
       "    </tr>\n",
       "  </tbody>\n",
       "</table>\n",
       "</div>"
      ],
      "text/plain": [
       "     Name  id   cource\n",
       "0  Anjali  11  AI & DS\n",
       "1  Ritesh  24       CS"
      ]
     },
     "execution_count": 24,
     "metadata": {},
     "output_type": "execute_result"
    }
   ],
   "source": [
    "dict1={\n",
    "    \"Name\":[\"Anjali\",\"Ritesh\"],\n",
    "    \"id\":[11,24],\n",
    "    \"cource\":[\"AI & DS\",\"CS\"]\n",
    "}\n",
    "print(dict1)\n",
    "df2=pd.DataFrame(dict1)\n",
    "df2"
   ]
  },
  {
   "cell_type": "code",
   "execution_count": 28,
   "id": "61ef2930",
   "metadata": {},
   "outputs": [
    {
     "data": {
      "text/plain": [
       "(2, 3)"
      ]
     },
     "execution_count": 28,
     "metadata": {},
     "output_type": "execute_result"
    }
   ],
   "source": [
    "df2.shape"
   ]
  },
  {
   "cell_type": "code",
   "execution_count": null,
   "id": "864af585",
   "metadata": {},
   "outputs": [
    {
     "data": {
      "text/plain": [
       "2"
      ]
     },
     "execution_count": 29,
     "metadata": {},
     "output_type": "execute_result"
    }
   ],
   "source": [
    "row,column=df2.shape\n",
    "row"
   ]
  },
  {
   "cell_type": "code",
   "execution_count": 42,
   "id": "2f5b5c70",
   "metadata": {},
   "outputs": [
    {
     "data": {
      "text/html": [
       "<div>\n",
       "<style scoped>\n",
       "    .dataframe tbody tr th:only-of-type {\n",
       "        vertical-align: middle;\n",
       "    }\n",
       "\n",
       "    .dataframe tbody tr th {\n",
       "        vertical-align: top;\n",
       "    }\n",
       "\n",
       "    .dataframe thead th {\n",
       "        text-align: right;\n",
       "    }\n",
       "</style>\n",
       "<table border=\"1\" class=\"dataframe\">\n",
       "  <thead>\n",
       "    <tr style=\"text-align: right;\">\n",
       "      <th></th>\n",
       "      <th>id</th>\n",
       "      <th>name</th>\n",
       "      <th>cource</th>\n",
       "      <th>age</th>\n",
       "    </tr>\n",
       "  </thead>\n",
       "  <tbody>\n",
       "    <tr>\n",
       "      <th>1</th>\n",
       "      <td>2</td>\n",
       "      <td>Ritesh</td>\n",
       "      <td>CS</td>\n",
       "      <td>31</td>\n",
       "    </tr>\n",
       "  </tbody>\n",
       "</table>\n",
       "</div>"
      ],
      "text/plain": [
       "   id    name cource  age\n",
       "1   2  Ritesh     CS   31"
      ]
     },
     "execution_count": 42,
     "metadata": {},
     "output_type": "execute_result"
    }
   ],
   "source": [
    "df1[df1[\"age\"]>30]"
   ]
  },
  {
   "cell_type": "code",
   "execution_count": null,
   "id": "eb143012",
   "metadata": {},
   "outputs": [
    {
     "data": {
      "text/html": [
       "<div>\n",
       "<style scoped>\n",
       "    .dataframe tbody tr th:only-of-type {\n",
       "        vertical-align: middle;\n",
       "    }\n",
       "\n",
       "    .dataframe tbody tr th {\n",
       "        vertical-align: top;\n",
       "    }\n",
       "\n",
       "    .dataframe thead th {\n",
       "        text-align: right;\n",
       "    }\n",
       "</style>\n",
       "<table border=\"1\" class=\"dataframe\">\n",
       "  <thead>\n",
       "    <tr style=\"text-align: right;\">\n",
       "      <th></th>\n",
       "      <th>id</th>\n",
       "      <th>name</th>\n",
       "      <th>cource</th>\n",
       "      <th>age</th>\n",
       "    </tr>\n",
       "  </thead>\n",
       "  <tbody>\n",
       "    <tr>\n",
       "      <th>0</th>\n",
       "      <td>1</td>\n",
       "      <td>Anjali</td>\n",
       "      <td>AI &amp;  DS</td>\n",
       "      <td>21</td>\n",
       "    </tr>\n",
       "    <tr>\n",
       "      <th>2</th>\n",
       "      <td>3</td>\n",
       "      <td>Yash</td>\n",
       "      <td>CS</td>\n",
       "      <td>18</td>\n",
       "    </tr>\n",
       "  </tbody>\n",
       "</table>\n",
       "</div>"
      ],
      "text/plain": [
       "   id    name    cource  age\n",
       "0   1  Anjali  AI &  DS   21\n",
       "2   3    Yash        CS   18"
      ]
     },
     "execution_count": 44,
     "metadata": {},
     "output_type": "execute_result"
    }
   ],
   "source": [
    "df1[df1.age<22]"
   ]
  },
  {
   "cell_type": "code",
   "execution_count": 47,
   "id": "f8077f59",
   "metadata": {},
   "outputs": [
    {
     "data": {
      "text/html": [
       "<div>\n",
       "<style scoped>\n",
       "    .dataframe tbody tr th:only-of-type {\n",
       "        vertical-align: middle;\n",
       "    }\n",
       "\n",
       "    .dataframe tbody tr th {\n",
       "        vertical-align: top;\n",
       "    }\n",
       "\n",
       "    .dataframe thead th {\n",
       "        text-align: right;\n",
       "    }\n",
       "</style>\n",
       "<table border=\"1\" class=\"dataframe\">\n",
       "  <thead>\n",
       "    <tr style=\"text-align: right;\">\n",
       "      <th></th>\n",
       "      <th>id</th>\n",
       "      <th>name</th>\n",
       "      <th>cource</th>\n",
       "      <th>age</th>\n",
       "    </tr>\n",
       "  </thead>\n",
       "  <tbody>\n",
       "    <tr>\n",
       "      <th>1</th>\n",
       "      <td>2</td>\n",
       "      <td>Ritesh</td>\n",
       "      <td>CS</td>\n",
       "      <td>31</td>\n",
       "    </tr>\n",
       "  </tbody>\n",
       "</table>\n",
       "</div>"
      ],
      "text/plain": [
       "   id    name cource  age\n",
       "1   2  Ritesh     CS   31"
      ]
     },
     "execution_count": 47,
     "metadata": {},
     "output_type": "execute_result"
    }
   ],
   "source": [
    "df1[df1.age==df1[\"age\"].max()]"
   ]
  },
  {
   "cell_type": "code",
   "execution_count": 50,
   "id": "396fb3ec",
   "metadata": {},
   "outputs": [
    {
     "data": {
      "text/plain": [
       "RangeIndex(start=0, stop=3, step=1)"
      ]
     },
     "execution_count": 50,
     "metadata": {},
     "output_type": "execute_result"
    }
   ],
   "source": [
    "df1.index"
   ]
  },
  {
   "cell_type": "code",
   "execution_count": null,
   "id": "a86b6db6",
   "metadata": {},
   "outputs": [],
   "source": [
    "df1.set_index(\"id\",inplace=True)\n",
    "# inpalce modify the set index as id"
   ]
  },
  {
   "cell_type": "code",
   "execution_count": 53,
   "id": "0c67e35d",
   "metadata": {},
   "outputs": [
    {
     "data": {
      "text/html": [
       "<div>\n",
       "<style scoped>\n",
       "    .dataframe tbody tr th:only-of-type {\n",
       "        vertical-align: middle;\n",
       "    }\n",
       "\n",
       "    .dataframe tbody tr th {\n",
       "        vertical-align: top;\n",
       "    }\n",
       "\n",
       "    .dataframe thead th {\n",
       "        text-align: right;\n",
       "    }\n",
       "</style>\n",
       "<table border=\"1\" class=\"dataframe\">\n",
       "  <thead>\n",
       "    <tr style=\"text-align: right;\">\n",
       "      <th></th>\n",
       "      <th>name</th>\n",
       "      <th>cource</th>\n",
       "      <th>age</th>\n",
       "    </tr>\n",
       "    <tr>\n",
       "      <th>id</th>\n",
       "      <th></th>\n",
       "      <th></th>\n",
       "      <th></th>\n",
       "    </tr>\n",
       "  </thead>\n",
       "  <tbody>\n",
       "    <tr>\n",
       "      <th>1</th>\n",
       "      <td>Anjali</td>\n",
       "      <td>AI &amp;  DS</td>\n",
       "      <td>21</td>\n",
       "    </tr>\n",
       "    <tr>\n",
       "      <th>2</th>\n",
       "      <td>Ritesh</td>\n",
       "      <td>CS</td>\n",
       "      <td>31</td>\n",
       "    </tr>\n",
       "    <tr>\n",
       "      <th>3</th>\n",
       "      <td>Yash</td>\n",
       "      <td>CS</td>\n",
       "      <td>18</td>\n",
       "    </tr>\n",
       "  </tbody>\n",
       "</table>\n",
       "</div>"
      ],
      "text/plain": [
       "      name    cource  age\n",
       "id                       \n",
       "1   Anjali  AI &  DS   21\n",
       "2   Ritesh        CS   31\n",
       "3     Yash        CS   18"
      ]
     },
     "execution_count": 53,
     "metadata": {},
     "output_type": "execute_result"
    }
   ],
   "source": [
    "df1"
   ]
  },
  {
   "cell_type": "code",
   "execution_count": 57,
   "id": "eda26af8",
   "metadata": {},
   "outputs": [
    {
     "data": {
      "text/plain": [
       "name      Ritesh\n",
       "cource        CS\n",
       "age           31\n",
       "Name: 2, dtype: object"
      ]
     },
     "execution_count": 57,
     "metadata": {},
     "output_type": "execute_result"
    }
   ],
   "source": [
    "df1.loc[2]"
   ]
  },
  {
   "cell_type": "code",
   "execution_count": 60,
   "id": "17c43954",
   "metadata": {},
   "outputs": [
    {
     "data": {
      "text/html": [
       "<div>\n",
       "<style scoped>\n",
       "    .dataframe tbody tr th:only-of-type {\n",
       "        vertical-align: middle;\n",
       "    }\n",
       "\n",
       "    .dataframe tbody tr th {\n",
       "        vertical-align: top;\n",
       "    }\n",
       "\n",
       "    .dataframe thead th {\n",
       "        text-align: right;\n",
       "    }\n",
       "</style>\n",
       "<table border=\"1\" class=\"dataframe\">\n",
       "  <thead>\n",
       "    <tr style=\"text-align: right;\">\n",
       "      <th></th>\n",
       "      <th>id</th>\n",
       "      <th>name</th>\n",
       "      <th>cource</th>\n",
       "      <th>age</th>\n",
       "    </tr>\n",
       "  </thead>\n",
       "  <tbody>\n",
       "    <tr>\n",
       "      <th>0</th>\n",
       "      <td>1</td>\n",
       "      <td>Anjali</td>\n",
       "      <td>AI &amp;  DS</td>\n",
       "      <td>21</td>\n",
       "    </tr>\n",
       "    <tr>\n",
       "      <th>1</th>\n",
       "      <td>2</td>\n",
       "      <td>Ritesh</td>\n",
       "      <td>CS</td>\n",
       "      <td>31</td>\n",
       "    </tr>\n",
       "    <tr>\n",
       "      <th>2</th>\n",
       "      <td>3</td>\n",
       "      <td>Yash</td>\n",
       "      <td>CS</td>\n",
       "      <td>18</td>\n",
       "    </tr>\n",
       "  </tbody>\n",
       "</table>\n",
       "</div>"
      ],
      "text/plain": [
       "   id    name    cource  age\n",
       "0   1  Anjali  AI &  DS   21\n",
       "1   2  Ritesh        CS   31\n",
       "2   3    Yash        CS   18"
      ]
     },
     "execution_count": 60,
     "metadata": {},
     "output_type": "execute_result"
    }
   ],
   "source": [
    "df1.reset_index(inplace=True)\n",
    "df1"
   ]
  }
 ],
 "metadata": {
  "kernelspec": {
   "display_name": "Python 3",
   "language": "python",
   "name": "python3"
  },
  "language_info": {
   "codemirror_mode": {
    "name": "ipython",
    "version": 3
   },
   "file_extension": ".py",
   "mimetype": "text/x-python",
   "name": "python",
   "nbconvert_exporter": "python",
   "pygments_lexer": "ipython3",
   "version": "3.11.9"
  }
 },
 "nbformat": 4,
 "nbformat_minor": 5
}
