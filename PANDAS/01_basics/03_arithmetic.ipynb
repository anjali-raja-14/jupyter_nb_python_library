{
 "cells": [
  {
   "cell_type": "code",
   "execution_count": 2,
   "id": "a13c6431",
   "metadata": {},
   "outputs": [
    {
     "name": "stdout",
     "output_type": "stream",
     "text": [
      "   A  B\n",
      "0  1  6\n",
      "1  2  7\n",
      "2  3  8\n",
      "3  4  9\n"
     ]
    }
   ],
   "source": [
    "import pandas as pd\n",
    "var=pd.DataFrame({\"A\":[1,2,3,4],\n",
    "                  \"B\":[6,7,8,9]})\n",
    "print(var)"
   ]
  },
  {
   "cell_type": "code",
   "execution_count": 4,
   "id": "bd51a44f",
   "metadata": {},
   "outputs": [
    {
     "name": "stdout",
     "output_type": "stream",
     "text": [
      "   A  B  C\n",
      "0  1  6 -5\n",
      "1  2  7 -5\n",
      "2  3  8 -5\n",
      "3  4  9 -5\n"
     ]
    }
   ],
   "source": [
    "var[\"C\"]=var[\"A\"]-var[\"B\"]\n",
    "print(var)"
   ]
  }
 ],
 "metadata": {
  "kernelspec": {
   "display_name": "Python (myenv)",
   "language": "python",
   "name": "myenv"
  },
  "language_info": {
   "codemirror_mode": {
    "name": "ipython",
    "version": 3
   },
   "file_extension": ".py",
   "mimetype": "text/x-python",
   "name": "python",
   "nbconvert_exporter": "python",
   "pygments_lexer": "ipython3",
   "version": "3.13.2"
  }
 },
 "nbformat": 4,
 "nbformat_minor": 5
}
